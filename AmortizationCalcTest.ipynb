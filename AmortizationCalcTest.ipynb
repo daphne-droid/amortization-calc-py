{
 "cells": [
  {
   "cell_type": "code",
   "execution_count": 3,
   "id": "1f8b731d-47a5-4538-9afe-5711fc8897e8",
   "metadata": {},
   "outputs": [],
   "source": [
    "import pandas as pd\n",
    "import numpy as np"
   ]
  },
  {
   "cell_type": "code",
   "execution_count": 5,
   "id": "fa411c9a-3833-4d68-9905-ca92ee7bdf16",
   "metadata": {},
   "outputs": [
    {
     "name": "stdout",
     "output_type": "stream",
     "text": [
      "   Month  Total Payment  Interest Paid  Principal Paid  Remaining Balance\n",
      "0      1     402.616217     312.500000       90.116217       74909.883783\n",
      "1      2     402.616217     312.124516       90.491701       74819.392081\n",
      "2      3     402.616217     311.747467       90.868750       74728.523331\n",
      "3      4     402.616217     311.368847       91.247370       74637.275961\n",
      "4      5     402.616217     310.988650       91.627567       74545.648394\n"
     ]
    }
   ],
   "source": [
    "# Loan Parameters\n",
    "principal = 75000    # Principal amount\n",
    "annual_interest_rate = 0.05    # Annual interest rate (5%)\n",
    "loan_term_months = 360     # Loan term in months (30 yrs * 12 mos)\n",
    "\n",
    "# Monthly interest rate\n",
    "monthly_interest_rate = annual_interest_rate / 12\n",
    "\n",
    "# Calculate monthly payment using formula for an amortizing loan (i.e., annuity formula)\n",
    "monthly_payment = (principal * monthly_interest_rate) / (1 - (1 + monthly_interest_rate) ** -loan_term_months)\n",
    "\n",
    "# Initialize lists to store amortization details\n",
    "month_list = []\n",
    "balance_list = []\n",
    "interest_paid_list = []\n",
    "principal_paid_list = []\n",
    "total_payment_list = []\n",
    "\n",
    "# Amortization calculations\n",
    "balance = principal \n",
    "for month in range(1, loan_term_months + 1):\n",
    "    interest_payment = balance * monthly_interest_rate\n",
    "    principal_payment = monthly_payment - interest_payment \n",
    "    balance -= principal_payment \n",
    "\n",
    "# Store values \n",
    "    month_list.append(month)\n",
    "    balance_list.append(max(balance, 0)) # Ensure balance does not go negative\n",
    "    interest_paid_list.append(interest_payment)\n",
    "    principal_paid_list.append(principal_payment)\n",
    "    total_payment_list.append(monthly_payment)\n",
    "\n",
    "# Create DataFrame\n",
    "    amortization_table = pd.DataFrame({\n",
    "        'Month' : month_list, \n",
    "        'Total Payment' : total_payment_list, \n",
    "        'Interest Paid' : interest_paid_list, \n",
    "        'Principal Paid' : principal_paid_list,\n",
    "        'Remaining Balance' : balance_list \n",
    "    })\n",
    "\n",
    "# Display the first few rows (the head method)\n",
    "print (amortization_table.head())"
   ]
  },
  {
   "cell_type": "code",
   "execution_count": null,
   "id": "18973ab6-012d-4863-a5c4-dd6e3523cc25",
   "metadata": {},
   "outputs": [],
   "source": []
  }
 ],
 "metadata": {
  "kernelspec": {
   "display_name": "Python [conda env:base] *",
   "language": "python",
   "name": "conda-base-py"
  },
  "language_info": {
   "codemirror_mode": {
    "name": "ipython",
    "version": 3
   },
   "file_extension": ".py",
   "mimetype": "text/x-python",
   "name": "python",
   "nbconvert_exporter": "python",
   "pygments_lexer": "ipython3",
   "version": "3.12.7"
  }
 },
 "nbformat": 4,
 "nbformat_minor": 5
}
